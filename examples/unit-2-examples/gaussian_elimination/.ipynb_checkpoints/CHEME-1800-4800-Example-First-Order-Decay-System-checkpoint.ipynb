{
 "cells": [
  {
   "cell_type": "markdown",
   "id": "25f814de-5bcb-4757-849c-72cdb42806b2",
   "metadata": {},
   "source": [
    "## Fill me in here"
   ]
  },
  {
   "cell_type": "code",
   "execution_count": 1,
   "id": "a88b280e-02ac-4657-9c39-8a4ee9ad23de",
   "metadata": {},
   "outputs": [
    {
     "name": "stderr",
     "output_type": "stream",
     "text": [
      "\u001b[32m\u001b[1m  Activating\u001b[22m\u001b[39m project at `~/Desktop/julia_work/CHEME-1800-4800-Course-Repository-S23/examples/gaussian_elimination`\n",
      "\u001b[32m\u001b[1m  No Changes\u001b[22m\u001b[39m to `~/Desktop/julia_work/CHEME-1800-4800-Course-Repository-S23/examples/gaussian_elimination/Project.toml`\n",
      "\u001b[32m\u001b[1m  No Changes\u001b[22m\u001b[39m to `~/Desktop/julia_work/CHEME-1800-4800-Course-Repository-S23/examples/gaussian_elimination/Manifest.toml`\n"
     ]
    }
   ],
   "source": [
    "import Pkg; Pkg.activate(\".\"); Pkg.resolve(); Pkg.instantiate();"
   ]
  },
  {
   "cell_type": "code",
   "execution_count": 2,
   "id": "9583a5de-52fb-46a8-8c48-8b2c248534ba",
   "metadata": {},
   "outputs": [],
   "source": [
    "# load external packages\n",
    "using Plots\n",
    "using Colors"
   ]
  },
  {
   "cell_type": "code",
   "execution_count": 3,
   "id": "084e47ea-22ed-47dc-a906-bd1b61bb47e2",
   "metadata": {},
   "outputs": [],
   "source": [
    "# load the file for this project\n",
    "include(\"Include.jl\");"
   ]
  },
  {
   "cell_type": "markdown",
   "id": "cbf55c08-48ef-4439-a691-3175e95b0f17",
   "metadata": {},
   "source": [
    "### Constants"
   ]
  },
  {
   "cell_type": "code",
   "execution_count": 4,
   "id": "20ca81cc-9b2f-466e-9f73-76288a3d258f",
   "metadata": {},
   "outputs": [],
   "source": [
    "# setup constants for the problem -\n",
    "h = 1.0; # step-size\n",
    "κ = 0.5;  # rate constant\n",
    "Cₒ = 10.0; # initial condition\n",
    "\n",
    "# setup my time array -\n",
    "T_stop = 20.0;\n",
    "T_array = range(0.0, stop = T_stop, step=h) |> collect;\n",
    "N = length(T_array); # how many time steps do we have?"
   ]
  },
  {
   "cell_type": "code",
   "execution_count": 5,
   "id": "bc42a5e1-674c-4f75-8aec-316b5bd99d7a",
   "metadata": {},
   "outputs": [
    {
     "data": {
      "text/plain": [
       "21"
      ]
     },
     "execution_count": 5,
     "metadata": {},
     "output_type": "execute_result"
    }
   ],
   "source": [
    "N"
   ]
  },
  {
   "cell_type": "markdown",
   "id": "f6a4843e-0646-4145-8ee2-199c7f017711",
   "metadata": {},
   "source": [
    "### Build system of equations"
   ]
  },
  {
   "cell_type": "code",
   "execution_count": 6,
   "id": "c161242e-698b-4208-ada2-80141fb9924a",
   "metadata": {},
   "outputs": [],
   "source": [
    "# build the matrix A -\n",
    "A = zeros(N,N); \n",
    "\n",
    "# the first row has one entry at 1,1\n",
    "A[1,1] = 1.0;\n",
    "\n",
    "# process each row from 2 -> N\n",
    "for i ∈ 2:N\n",
    "    \n",
    "    A[i,i] = 1.0 # the main diag is 1\n",
    "    A[i,i-1] = (κ*h - 1);\n",
    "end"
   ]
  },
  {
   "cell_type": "code",
   "execution_count": 7,
   "id": "3925ef39-5d93-4fbb-b379-71343130110b",
   "metadata": {},
   "outputs": [],
   "source": [
    "# build right-hand-side vector \n",
    "b = zeros(N);\n",
    "b[1] = Cₒ*(1-κ*h);"
   ]
  },
  {
   "cell_type": "markdown",
   "id": "0ab8f3be-e5b1-453e-9687-2041d8b5effe",
   "metadata": {},
   "source": [
    "### Solve system of equations"
   ]
  },
  {
   "cell_type": "code",
   "execution_count": 8,
   "id": "0ecfea62-3880-4916-a8c9-53773a521ddf",
   "metadata": {},
   "outputs": [
    {
     "data": {
      "text/plain": [
       "21×22 Matrix{Float64}:\n",
       "  1.0   0.0   0.0   0.0   0.0   0.0  …   0.0   0.0   0.0   0.0  0.0  5.0\n",
       " -0.5   1.0   0.0   0.0   0.0   0.0      0.0   0.0   0.0   0.0  0.0  0.0\n",
       "  0.0  -0.5   1.0   0.0   0.0   0.0      0.0   0.0   0.0   0.0  0.0  0.0\n",
       "  0.0   0.0  -0.5   1.0   0.0   0.0      0.0   0.0   0.0   0.0  0.0  0.0\n",
       "  0.0   0.0   0.0  -0.5   1.0   0.0      0.0   0.0   0.0   0.0  0.0  0.0\n",
       "  0.0   0.0   0.0   0.0  -0.5   1.0  …   0.0   0.0   0.0   0.0  0.0  0.0\n",
       "  0.0   0.0   0.0   0.0   0.0  -0.5      0.0   0.0   0.0   0.0  0.0  0.0\n",
       "  0.0   0.0   0.0   0.0   0.0   0.0      0.0   0.0   0.0   0.0  0.0  0.0\n",
       "  0.0   0.0   0.0   0.0   0.0   0.0      0.0   0.0   0.0   0.0  0.0  0.0\n",
       "  0.0   0.0   0.0   0.0   0.0   0.0      0.0   0.0   0.0   0.0  0.0  0.0\n",
       "  0.0   0.0   0.0   0.0   0.0   0.0  …   0.0   0.0   0.0   0.0  0.0  0.0\n",
       "  0.0   0.0   0.0   0.0   0.0   0.0      0.0   0.0   0.0   0.0  0.0  0.0\n",
       "  0.0   0.0   0.0   0.0   0.0   0.0      0.0   0.0   0.0   0.0  0.0  0.0\n",
       "  0.0   0.0   0.0   0.0   0.0   0.0      0.0   0.0   0.0   0.0  0.0  0.0\n",
       "  0.0   0.0   0.0   0.0   0.0   0.0      0.0   0.0   0.0   0.0  0.0  0.0\n",
       "  0.0   0.0   0.0   0.0   0.0   0.0  …   0.0   0.0   0.0   0.0  0.0  0.0\n",
       "  0.0   0.0   0.0   0.0   0.0   0.0      1.0   0.0   0.0   0.0  0.0  0.0\n",
       "  0.0   0.0   0.0   0.0   0.0   0.0     -0.5   1.0   0.0   0.0  0.0  0.0\n",
       "  0.0   0.0   0.0   0.0   0.0   0.0      0.0  -0.5   1.0   0.0  0.0  0.0\n",
       "  0.0   0.0   0.0   0.0   0.0   0.0      0.0   0.0  -0.5   1.0  0.0  0.0\n",
       "  0.0   0.0   0.0   0.0   0.0   0.0  …   0.0   0.0   0.0  -0.5  1.0  0.0"
      ]
     },
     "execution_count": 8,
     "metadata": {},
     "output_type": "execute_result"
    }
   ],
   "source": [
    "Ā = [A b]"
   ]
  },
  {
   "cell_type": "code",
   "execution_count": 9,
   "id": "dbf30e98-92a6-48f9-85dd-4d2b7a766037",
   "metadata": {},
   "outputs": [
    {
     "data": {
      "text/plain": [
       "1.0"
      ]
     },
     "execution_count": 9,
     "metadata": {},
     "output_type": "execute_result"
    }
   ],
   "source": [
    "det(A)"
   ]
  },
  {
   "cell_type": "code",
   "execution_count": 10,
   "id": "00b528d0-55ca-41b3-967c-639ec37bd611",
   "metadata": {},
   "outputs": [
    {
     "data": {
      "text/plain": [
       "21×22 Matrix{Float64}:\n",
       " 1.0  0.0  0.0  0.0  0.0  0.0  0.0  0.0  …  0.0  0.0  0.0  0.0  5.0\n",
       " 0.0  1.0  0.0  0.0  0.0  0.0  0.0  0.0     0.0  0.0  0.0  0.0  2.5\n",
       " 0.0  0.0  1.0  0.0  0.0  0.0  0.0  0.0     0.0  0.0  0.0  0.0  1.25\n",
       " 0.0  0.0  0.0  1.0  0.0  0.0  0.0  0.0     0.0  0.0  0.0  0.0  0.625\n",
       " 0.0  0.0  0.0  0.0  1.0  0.0  0.0  0.0     0.0  0.0  0.0  0.0  0.3125\n",
       " 0.0  0.0  0.0  0.0  0.0  1.0  0.0  0.0  …  0.0  0.0  0.0  0.0  0.15625\n",
       " 0.0  0.0  0.0  0.0  0.0  0.0  1.0  0.0     0.0  0.0  0.0  0.0  0.078125\n",
       " 0.0  0.0  0.0  0.0  0.0  0.0  0.0  1.0     0.0  0.0  0.0  0.0  0.0390625\n",
       " 0.0  0.0  0.0  0.0  0.0  0.0  0.0  0.0     0.0  0.0  0.0  0.0  0.0195312\n",
       " 0.0  0.0  0.0  0.0  0.0  0.0  0.0  0.0     0.0  0.0  0.0  0.0  0.00976562\n",
       " 0.0  0.0  0.0  0.0  0.0  0.0  0.0  0.0  …  0.0  0.0  0.0  0.0  0.00488281\n",
       " 0.0  0.0  0.0  0.0  0.0  0.0  0.0  0.0     0.0  0.0  0.0  0.0  0.00244141\n",
       " 0.0  0.0  0.0  0.0  0.0  0.0  0.0  0.0     0.0  0.0  0.0  0.0  0.0012207\n",
       " 0.0  0.0  0.0  0.0  0.0  0.0  0.0  0.0     0.0  0.0  0.0  0.0  0.000610352\n",
       " 0.0  0.0  0.0  0.0  0.0  0.0  0.0  0.0     0.0  0.0  0.0  0.0  0.000305176\n",
       " 0.0  0.0  0.0  0.0  0.0  0.0  0.0  0.0  …  0.0  0.0  0.0  0.0  0.000152588\n",
       " 0.0  0.0  0.0  0.0  0.0  0.0  0.0  0.0     0.0  0.0  0.0  0.0  7.62939e-5\n",
       " 0.0  0.0  0.0  0.0  0.0  0.0  0.0  0.0     1.0  0.0  0.0  0.0  3.8147e-5\n",
       " 0.0  0.0  0.0  0.0  0.0  0.0  0.0  0.0     0.0  1.0  0.0  0.0  1.90735e-5\n",
       " 0.0  0.0  0.0  0.0  0.0  0.0  0.0  0.0     0.0  0.0  1.0  0.0  9.53674e-6\n",
       " 0.0  0.0  0.0  0.0  0.0  0.0  0.0  0.0  …  0.0  0.0  0.0  1.0  4.76837e-6"
      ]
     },
     "execution_count": 10,
     "metadata": {},
     "output_type": "execute_result"
    }
   ],
   "source": [
    "Ū = upper_triangular(Ā)"
   ]
  },
  {
   "cell_type": "code",
   "execution_count": 11,
   "id": "664edbbc-8789-460e-971b-9dc4d1739f9d",
   "metadata": {},
   "outputs": [],
   "source": [
    "U = Ū[:,1:end-1];\n",
    "b̂ = Ū[:,end];"
   ]
  },
  {
   "cell_type": "code",
   "execution_count": 12,
   "id": "3f7f8eed-ede8-4dfb-a1c9-2d282298f181",
   "metadata": {},
   "outputs": [],
   "source": [
    "x = backward_substitution(U,b̂);\n",
    "x̂ = [Cₒ ; x[1:end-1]];"
   ]
  },
  {
   "cell_type": "markdown",
   "id": "cf2757ce-e7ca-4a56-b129-73575d1a8bd9",
   "metadata": {},
   "source": [
    "### Compare estimated versus analytical solution"
   ]
  },
  {
   "cell_type": "code",
   "execution_count": 13,
   "id": "43df14cb-9655-47be-9339-ffee465ddc05",
   "metadata": {},
   "outputs": [
    {
     "ename": "LoadError",
     "evalue": "BoundsError: attempt to access 21-element Vector{Float64} at index [22]",
     "output_type": "error",
     "traceback": [
      "BoundsError: attempt to access 21-element Vector{Float64} at index [22]",
      "",
      "Stacktrace:",
      " [1] getindex(A::Vector{Float64}, i1::Int64)",
      "   @ Base ./array.jl:924",
      " [2] top-level scope",
      "   @ ./In[13]:6",
      " [3] eval",
      "   @ ./boot.jl:368 [inlined]",
      " [4] include_string(mapexpr::typeof(REPL.softscope), mod::Module, code::String, filename::String)",
      "   @ Base ./loading.jl:1428"
     ]
    }
   ],
   "source": [
    "# generate analytical solution -\n",
    "T_array_soln = range(0,stop=T_stop,step=0.01) |> collect;\n",
    "C_soln = zeros(length(T_array_soln));\n",
    "C_soln[1] = Cₒ\n",
    "for i ∈ 2:length(T_array_soln)\n",
    "    C_soln[i] = Cₒ*exp(-κ*T_array[i])\n",
    "end"
   ]
  },
  {
   "cell_type": "code",
   "execution_count": 14,
   "id": "cea18a66-8585-485d-a663-e2ce2231e552",
   "metadata": {},
   "outputs": [
    {
     "data": {
      "text/plain": [
       "2001-element Vector{Float64}:\n",
       " 10.0\n",
       "  6.065306597126334\n",
       "  3.6787944117144233\n",
       "  2.231301601484298\n",
       "  1.353352832366127\n",
       "  0.820849986238988\n",
       "  0.49787068367863946\n",
       "  0.301973834223185\n",
       "  0.1831563888873418\n",
       "  0.11108996538242306\n",
       "  0.06737946999085467\n",
       "  0.040867714384640666\n",
       "  0.024787521766663587\n",
       "  ⋮\n",
       "  0.0\n",
       "  0.0\n",
       "  0.0\n",
       "  0.0\n",
       "  0.0\n",
       "  0.0\n",
       "  0.0\n",
       "  0.0\n",
       "  0.0\n",
       "  0.0\n",
       "  0.0\n",
       "  0.0"
      ]
     },
     "execution_count": 14,
     "metadata": {},
     "output_type": "execute_result"
    }
   ],
   "source": [
    "C_soln"
   ]
  },
  {
   "cell_type": "code",
   "execution_count": null,
   "id": "8b7a655a-1e54-48bb-92a5-88a37313c8ad",
   "metadata": {},
   "outputs": [],
   "source": [
    "plot(T_array, C_soln,c=:red,lw=2)\n",
    "plot!(T_array, x̂, c=:blue,lw=2)"
   ]
  },
  {
   "cell_type": "code",
   "execution_count": null,
   "id": "ed7e5feb-7b12-48bb-ba32-9ec29fa8c0e0",
   "metadata": {},
   "outputs": [],
   "source": []
  }
 ],
 "metadata": {
  "kernelspec": {
   "display_name": "Julia 1.8.5",
   "language": "julia",
   "name": "julia-1.8"
  },
  "language_info": {
   "file_extension": ".jl",
   "mimetype": "application/julia",
   "name": "julia",
   "version": "1.8.5"
  }
 },
 "nbformat": 4,
 "nbformat_minor": 5
}
